{
 "cells": [
  {
   "cell_type": "code",
   "execution_count": 10,
   "metadata": {},
   "outputs": [],
   "source": [
    "from bottle import run, route, template, static_file"
   ]
  },
  {
   "cell_type": "code",
   "execution_count": 11,
   "metadata": {},
   "outputs": [],
   "source": [
    "@route('/')\n",
    "def index():\n",
    "    return template('index')"
   ]
  },
  {
   "cell_type": "code",
   "execution_count": 12,
   "metadata": {},
   "outputs": [],
   "source": [
    "@route('/static/<filename>')\n",
    "def server_static(filename):\n",
    "    return static_file(filename, root='G:\\datos\\photos')"
   ]
  },
  {
   "cell_type": "code",
   "execution_count": 13,
   "metadata": {
    "scrolled": true
   },
   "outputs": [
    {
     "name": "stderr",
     "output_type": "stream",
     "text": [
      "Bottle v0.12.18 server starting up (using WSGIRefServer())...\n",
      "Listening on http://localhost:8081/\n",
      "Hit Ctrl-C to quit.\n",
      "\n"
     ]
    }
   ],
   "source": [
    "run(host='localhost', port=9000)"
   ]
  },
  {
   "cell_type": "code",
   "execution_count": 1,
   "metadata": {},
   "outputs": [
    {
     "name": "stderr",
     "output_type": "stream",
     "text": [
      "Bottle v0.12.18 server starting up (using WSGIRefServer())...\n",
      "Listening on http://localhost:9000/\n",
      "Hit Ctrl-C to quit.\n",
      "\n",
      "127.0.0.1 - - [19/Mar/2020 11:09:19] \"GET / HTTP/1.1\" 404 720\n",
      "127.0.0.1 - - [19/Mar/2020 11:09:19] \"GET /favicon.ico HTTP/1.1\" 404 742\n",
      "127.0.0.1 - - [19/Mar/2020 11:09:27] \"GET /hello/german HTTP/1.1\" 200 20\n"
     ]
    }
   ],
   "source": [
    "from bottle import route, run, template\n",
    "\n",
    "@route('/hello/<name>')\n",
    "def index(name):\n",
    "    return template('<b>Hello {{name}}</b>!', name=name)\n",
    "\n",
    "run(host='localhost', port=9000)"
   ]
  },
  {
   "cell_type": "code",
   "execution_count": null,
   "metadata": {},
   "outputs": [],
   "source": [
    "from bottle import static_file\n",
    "\n",
    "@route('/images/<filename:re:.*\\.png>')\n",
    "def send_image(filename):\n",
    "    return static_file(filename, root='/path/to/image/files', mimetype='image/png')"
   ]
  },
  {
   "cell_type": "code",
   "execution_count": 3,
   "metadata": {},
   "outputs": [
    {
     "name": "stderr",
     "output_type": "stream",
     "text": [
      "Bottle v0.12.18 server starting up (using WSGIRefServer())...\n",
      "Listening on http://localhost:9002/\n",
      "Hit Ctrl-C to quit.\n",
      "\n",
      "127.0.0.1 - - [20/Mar/2020 10:51:52] \"GET /login HTTP/1.1\" 405 738\n",
      "127.0.0.1 - - [20/Mar/2020 10:51:56] \"GET /login HTTP/1.1\" 405 738\n",
      "Traceback (most recent call last):\n",
      "  File \"G:\\Programs\\Anaconda3\\lib\\site-packages\\bottle.py\", line 868, in _handle\n",
      "    return route.call(**args)\n",
      "  File \"G:\\Programs\\Anaconda3\\lib\\site-packages\\bottle.py\", line 1748, in wrapper\n",
      "    rv = callback(*a, **ka)\n",
      "TypeError: hello() missing 1 required positional argument: 'filename'\n",
      "127.0.0.1 - - [20/Mar/2020 10:52:10] \"POST /login/test HTTP/1.1\" 500 751\n",
      "127.0.0.1 - - [20/Mar/2020 10:52:10] \"GET /login HTTP/1.1\" 405 738\n"
     ]
    }
   ],
   "source": [
    "from bottle import Bottle, run, get, post, request, response\n",
    "from bottle import static_file\n",
    "import json, base64\n",
    "import numpy as np\n",
    "\n",
    "animals = [{'name' : 'Ellie', 'type' : 'Elephant'},\n",
    "           {'name' : 'Python', 'type' : 'Snake'},\n",
    "           {'name' : 'Zed', 'type' : 'Zebra'}]\n",
    "\n",
    "app = Bottle()\n",
    "\n",
    "@app.get('/animal')\n",
    "def getAll():\n",
    "    return {'animals' : animals}\n",
    "\n",
    "def check_login(u, p):\n",
    "    return True\n",
    "\n",
    "@app.route('/login/test', method='POST')\n",
    "def hello(filename):\n",
    "    r = request\n",
    "    print(r)\n",
    "    # convert string of image data to uint8\n",
    "    nparr = np.fromstring(r.data, np.uint8)\n",
    "    # decode image\n",
    "    #img = cv2.imdecode(nparr, cv2.IMREAD_COLOR)\n",
    "    print (nparr)\n",
    "    # do some fancy processing here....\n",
    "\n",
    "    # build a response dict to send back to client\n",
    "    #response = {'message': 'image received. size={}x{}'.format(img.shape[1], img.shape[0])\n",
    "    #            }\n",
    "    # encode response using jsonpickle\n",
    "    #response_pickled = jsonpickle.encode(response)\n",
    "    return True\n",
    "\n",
    "    #return response(response=response_pickled, status=200, mimetype=\"application/json\")\n",
    "\n",
    "@app.route('/login', method='POST')\n",
    "def do_things():\n",
    "    data = request.json\n",
    "    print (data)\n",
    "\n",
    "\n",
    "run(app, host='localhost', port=9002)"
   ]
  },
  {
   "cell_type": "code",
   "execution_count": 6,
   "metadata": {},
   "outputs": [
    {
     "name": "stdout",
     "output_type": "stream",
     "text": [
      " * Serving Flask app \"__main__\" (lazy loading)\n",
      " * Environment: production\n",
      "   WARNING: This is a development server. Do not use it in a production deployment.\n",
      "   Use a production WSGI server instead.\n",
      " * Debug mode: off\n"
     ]
    },
    {
     "name": "stderr",
     "output_type": "stream",
     "text": [
      " * Running on http://0.0.0.0:5000/ (Press CTRL+C to quit)\n",
      "G:\\Programs\\Anaconda3\\lib\\site-packages\\ipykernel_launcher.py:15: DeprecationWarning: The binary mode of fromstring is deprecated, as it behaves surprisingly on unicode inputs. Use frombuffer instead\n",
      "  from ipykernel import kernelapp as app\n",
      "[2020-03-20 10:55:34,117] ERROR in app: Exception on /api/test [POST]\n",
      "Traceback (most recent call last):\n",
      "  File \"G:\\Programs\\Anaconda3\\lib\\site-packages\\flask\\app.py\", line 2446, in wsgi_app\n",
      "    response = self.full_dispatch_request()\n",
      "  File \"G:\\Programs\\Anaconda3\\lib\\site-packages\\flask\\app.py\", line 1951, in full_dispatch_request\n",
      "    rv = self.handle_user_exception(e)\n",
      "  File \"G:\\Programs\\Anaconda3\\lib\\site-packages\\flask\\app.py\", line 1820, in handle_user_exception\n",
      "    reraise(exc_type, exc_value, tb)\n",
      "  File \"G:\\Programs\\Anaconda3\\lib\\site-packages\\flask\\_compat.py\", line 39, in reraise\n",
      "    raise value\n",
      "  File \"G:\\Programs\\Anaconda3\\lib\\site-packages\\flask\\app.py\", line 1949, in full_dispatch_request\n",
      "    rv = self.dispatch_request()\n",
      "  File \"G:\\Programs\\Anaconda3\\lib\\site-packages\\flask\\app.py\", line 1935, in dispatch_request\n",
      "    return self.view_functions[rule.endpoint](**req.view_args)\n",
      "  File \"<ipython-input-6-c322323ea4e3>\", line 22, in test\n",
      "    response = {'message': 'image received. size={}x{}'.format(img.shape[1], img.shape[0])\n",
      "AttributeError: 'NoneType' object has no attribute 'shape'\n",
      "127.0.0.1 - - [20/Mar/2020 10:55:34] \"\u001b[1m\u001b[35mPOST /api/test HTTP/1.1\u001b[0m\" 500 -\n"
     ]
    },
    {
     "name": "stdout",
     "output_type": "stream",
     "text": [
      "None\n"
     ]
    },
    {
     "name": "stderr",
     "output_type": "stream",
     "text": [
      "[2020-03-20 10:55:37,857] ERROR in app: Exception on /api/test [POST]\n",
      "Traceback (most recent call last):\n",
      "  File \"G:\\Programs\\Anaconda3\\lib\\site-packages\\flask\\app.py\", line 2446, in wsgi_app\n",
      "    response = self.full_dispatch_request()\n",
      "  File \"G:\\Programs\\Anaconda3\\lib\\site-packages\\flask\\app.py\", line 1951, in full_dispatch_request\n",
      "    rv = self.handle_user_exception(e)\n",
      "  File \"G:\\Programs\\Anaconda3\\lib\\site-packages\\flask\\app.py\", line 1820, in handle_user_exception\n",
      "    reraise(exc_type, exc_value, tb)\n",
      "  File \"G:\\Programs\\Anaconda3\\lib\\site-packages\\flask\\_compat.py\", line 39, in reraise\n",
      "    raise value\n",
      "  File \"G:\\Programs\\Anaconda3\\lib\\site-packages\\flask\\app.py\", line 1949, in full_dispatch_request\n",
      "    rv = self.dispatch_request()\n",
      "  File \"G:\\Programs\\Anaconda3\\lib\\site-packages\\flask\\app.py\", line 1935, in dispatch_request\n",
      "    return self.view_functions[rule.endpoint](**req.view_args)\n",
      "  File \"<ipython-input-6-c322323ea4e3>\", line 22, in test\n",
      "    response = {'message': 'image received. size={}x{}'.format(img.shape[1], img.shape[0])\n",
      "AttributeError: 'NoneType' object has no attribute 'shape'\n",
      "127.0.0.1 - - [20/Mar/2020 10:55:37] \"\u001b[1m\u001b[35mPOST /api/test HTTP/1.1\u001b[0m\" 500 -\n"
     ]
    },
    {
     "name": "stdout",
     "output_type": "stream",
     "text": [
      "None\n"
     ]
    }
   ],
   "source": [
    "from flask import Flask, request, Response\n",
    "import jsonpickle\n",
    "import numpy as np\n",
    "import cv2\n",
    "\n",
    "# Initialize the Flask application\n",
    "app = Flask(__name__)\n",
    "\n",
    "\n",
    "# route http posts to this method\n",
    "@app.route('/api/test', methods=['POST'])\n",
    "def test():\n",
    "    r = request\n",
    "    # convert string of image data to uint8\n",
    "    nparr = np.fromstring(r.data, np.uint8)\n",
    "    # decode image\n",
    "    img = cv2.imdecode(nparr, cv2.IMREAD_COLOR)\n",
    "\n",
    "    # do some fancy processing here....\n",
    "    print (r)\n",
    "    # build a response dict to send back to client\n",
    "    response = {'message': 'image received. size={}x{}'.format(img.shape[1], img.shape[0])\n",
    "                }\n",
    "    # encode response using jsonpickle\n",
    "    response_pickled = jsonpickle.encode(response)\n",
    "\n",
    "    return Response(response=response_pickled, status=200, mimetype=\"application/json\")\n",
    "\n",
    "\n",
    "# start flask app\n",
    "app.run(host=\"0.0.0.0\", port=5000)"
   ]
  }
 ],
 "metadata": {
  "kernelspec": {
   "display_name": "Python 3",
   "language": "python",
   "name": "python3"
  },
  "language_info": {
   "codemirror_mode": {
    "name": "ipython",
    "version": 3
   },
   "file_extension": ".py",
   "mimetype": "text/x-python",
   "name": "python",
   "nbconvert_exporter": "python",
   "pygments_lexer": "ipython3",
   "version": "3.7.4"
  }
 },
 "nbformat": 4,
 "nbformat_minor": 4
}
